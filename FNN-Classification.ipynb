{
 "cells": [
  {
   "cell_type": "markdown",
   "metadata": {},
   "source": [
    "# Classification Example"
   ]
  },
  {
   "cell_type": "markdown",
   "metadata": {},
   "source": [
    "## 0. Import Packages\n",
    "\n",
    "In addition to the usual imports, we will be using [Keras](https://keras.io/about/) to build our model. Keras is a deep learning Python package that allows us to easily build many different types of neural networks. In this example, we will be using a standard [feedforward neural network](https://en.wikipedia.org/wiki/Feedforward_neural_network) configured for binary classification. The equivalent scikit-learn model is `sklearn.neural_network.MLPClassifier`. "
   ]
  },
  {
   "cell_type": "code",
   "execution_count": 2,
   "metadata": {},
   "outputs": [],
   "source": [
    "import numpy as np\n",
    "import pandas as pd\n",
    "import matplotlib.pyplot as plt\n",
    "from keras.models import Sequential\n",
    "from keras.layers import Dense\n",
    "from sklearn.model_selection import train_test_split\n",
    "from sklearn.preprocessing import StandardScaler\n",
    "from sklearn.metrics import confusion_matrix"
   ]
  },
  {
   "cell_type": "markdown",
   "metadata": {},
   "source": [
    "## 1. Preprocess Data"
   ]
  },
  {
   "cell_type": "markdown",
   "metadata": {},
   "source": [
    "Neural networks are prone to overfitting, so it's best to reserve them for large, non-linear data sets. We will be using simulated data for the [Major Atmospheric Gamma Imaging Cherenkov Telescopes (MAGIC)](https://en.wikipedia.org/wiki/MAGIC_(telescope)). The goal is to identify primary gamma rays, labeled 'g', from the high energy background hadrons, labeled 'h'. You can learn more about the features of this data set [here](https://archive.ics.uci.edu/ml/datasets/MAGIC+Gamma+Telescope).\n",
    "\n",
    "First, let's import the data and relabel the classes 'g' and 'h' as 1 and 0. Neural networks can only function with numerical data. "
   ]
  },
  {
   "cell_type": "code",
   "execution_count": 3,
   "metadata": {
    "scrolled": false
   },
   "outputs": [
    {
     "data": {
      "text/html": [
       "<div>\n",
       "<style scoped>\n",
       "    .dataframe tbody tr th:only-of-type {\n",
       "        vertical-align: middle;\n",
       "    }\n",
       "\n",
       "    .dataframe tbody tr th {\n",
       "        vertical-align: top;\n",
       "    }\n",
       "\n",
       "    .dataframe thead th {\n",
       "        text-align: right;\n",
       "    }\n",
       "</style>\n",
       "<table border=\"1\" class=\"dataframe\">\n",
       "  <thead>\n",
       "    <tr style=\"text-align: right;\">\n",
       "      <th></th>\n",
       "      <th>fLength</th>\n",
       "      <th>fWidth</th>\n",
       "      <th>fSize</th>\n",
       "      <th>fConc</th>\n",
       "      <th>fConc1</th>\n",
       "      <th>fAsym</th>\n",
       "      <th>fM3Long</th>\n",
       "      <th>fM3Trans</th>\n",
       "      <th>fAlpha</th>\n",
       "      <th>fDist</th>\n",
       "      <th>Class</th>\n",
       "    </tr>\n",
       "  </thead>\n",
       "  <tbody>\n",
       "    <tr>\n",
       "      <td>0</td>\n",
       "      <td>28.7967</td>\n",
       "      <td>16.0021</td>\n",
       "      <td>2.6449</td>\n",
       "      <td>0.3918</td>\n",
       "      <td>0.1982</td>\n",
       "      <td>27.7004</td>\n",
       "      <td>22.0110</td>\n",
       "      <td>-8.2027</td>\n",
       "      <td>40.0920</td>\n",
       "      <td>81.8828</td>\n",
       "      <td>1</td>\n",
       "    </tr>\n",
       "    <tr>\n",
       "      <td>1</td>\n",
       "      <td>31.6036</td>\n",
       "      <td>11.7235</td>\n",
       "      <td>2.5185</td>\n",
       "      <td>0.5303</td>\n",
       "      <td>0.3773</td>\n",
       "      <td>26.2722</td>\n",
       "      <td>23.8238</td>\n",
       "      <td>-9.9574</td>\n",
       "      <td>6.3609</td>\n",
       "      <td>205.2610</td>\n",
       "      <td>1</td>\n",
       "    </tr>\n",
       "    <tr>\n",
       "      <td>2</td>\n",
       "      <td>162.0520</td>\n",
       "      <td>136.0310</td>\n",
       "      <td>4.0612</td>\n",
       "      <td>0.0374</td>\n",
       "      <td>0.0187</td>\n",
       "      <td>116.7410</td>\n",
       "      <td>-64.8580</td>\n",
       "      <td>-45.2160</td>\n",
       "      <td>76.9600</td>\n",
       "      <td>256.7880</td>\n",
       "      <td>1</td>\n",
       "    </tr>\n",
       "    <tr>\n",
       "      <td>3</td>\n",
       "      <td>23.8172</td>\n",
       "      <td>9.5728</td>\n",
       "      <td>2.3385</td>\n",
       "      <td>0.6147</td>\n",
       "      <td>0.3922</td>\n",
       "      <td>27.2107</td>\n",
       "      <td>-6.4633</td>\n",
       "      <td>-7.1513</td>\n",
       "      <td>10.4490</td>\n",
       "      <td>116.7370</td>\n",
       "      <td>1</td>\n",
       "    </tr>\n",
       "    <tr>\n",
       "      <td>4</td>\n",
       "      <td>75.1362</td>\n",
       "      <td>30.9205</td>\n",
       "      <td>3.1611</td>\n",
       "      <td>0.3168</td>\n",
       "      <td>0.1832</td>\n",
       "      <td>-5.5277</td>\n",
       "      <td>28.5525</td>\n",
       "      <td>21.8393</td>\n",
       "      <td>4.6480</td>\n",
       "      <td>356.4620</td>\n",
       "      <td>1</td>\n",
       "    </tr>\n",
       "    <tr>\n",
       "      <td>...</td>\n",
       "      <td>...</td>\n",
       "      <td>...</td>\n",
       "      <td>...</td>\n",
       "      <td>...</td>\n",
       "      <td>...</td>\n",
       "      <td>...</td>\n",
       "      <td>...</td>\n",
       "      <td>...</td>\n",
       "      <td>...</td>\n",
       "      <td>...</td>\n",
       "      <td>...</td>\n",
       "    </tr>\n",
       "    <tr>\n",
       "      <td>19015</td>\n",
       "      <td>21.3846</td>\n",
       "      <td>10.9170</td>\n",
       "      <td>2.6161</td>\n",
       "      <td>0.5857</td>\n",
       "      <td>0.3934</td>\n",
       "      <td>15.2618</td>\n",
       "      <td>11.5245</td>\n",
       "      <td>2.8766</td>\n",
       "      <td>2.4229</td>\n",
       "      <td>106.8258</td>\n",
       "      <td>0</td>\n",
       "    </tr>\n",
       "    <tr>\n",
       "      <td>19016</td>\n",
       "      <td>28.9452</td>\n",
       "      <td>6.7020</td>\n",
       "      <td>2.2672</td>\n",
       "      <td>0.5351</td>\n",
       "      <td>0.2784</td>\n",
       "      <td>37.0816</td>\n",
       "      <td>13.1853</td>\n",
       "      <td>-2.9632</td>\n",
       "      <td>86.7975</td>\n",
       "      <td>247.4560</td>\n",
       "      <td>0</td>\n",
       "    </tr>\n",
       "    <tr>\n",
       "      <td>19017</td>\n",
       "      <td>75.4455</td>\n",
       "      <td>47.5305</td>\n",
       "      <td>3.4483</td>\n",
       "      <td>0.1417</td>\n",
       "      <td>0.0549</td>\n",
       "      <td>-9.3561</td>\n",
       "      <td>41.0562</td>\n",
       "      <td>-9.4662</td>\n",
       "      <td>30.2987</td>\n",
       "      <td>256.5166</td>\n",
       "      <td>0</td>\n",
       "    </tr>\n",
       "    <tr>\n",
       "      <td>19018</td>\n",
       "      <td>120.5135</td>\n",
       "      <td>76.9018</td>\n",
       "      <td>3.9939</td>\n",
       "      <td>0.0944</td>\n",
       "      <td>0.0683</td>\n",
       "      <td>5.8043</td>\n",
       "      <td>-93.5224</td>\n",
       "      <td>-63.8389</td>\n",
       "      <td>84.6874</td>\n",
       "      <td>408.3166</td>\n",
       "      <td>0</td>\n",
       "    </tr>\n",
       "    <tr>\n",
       "      <td>19019</td>\n",
       "      <td>187.1814</td>\n",
       "      <td>53.0014</td>\n",
       "      <td>3.2093</td>\n",
       "      <td>0.2876</td>\n",
       "      <td>0.1539</td>\n",
       "      <td>-167.3125</td>\n",
       "      <td>-168.4558</td>\n",
       "      <td>31.4755</td>\n",
       "      <td>52.7310</td>\n",
       "      <td>272.3174</td>\n",
       "      <td>0</td>\n",
       "    </tr>\n",
       "  </tbody>\n",
       "</table>\n",
       "<p>19020 rows × 11 columns</p>\n",
       "</div>"
      ],
      "text/plain": [
       "        fLength    fWidth   fSize   fConc  fConc1     fAsym   fM3Long  \\\n",
       "0       28.7967   16.0021  2.6449  0.3918  0.1982   27.7004   22.0110   \n",
       "1       31.6036   11.7235  2.5185  0.5303  0.3773   26.2722   23.8238   \n",
       "2      162.0520  136.0310  4.0612  0.0374  0.0187  116.7410  -64.8580   \n",
       "3       23.8172    9.5728  2.3385  0.6147  0.3922   27.2107   -6.4633   \n",
       "4       75.1362   30.9205  3.1611  0.3168  0.1832   -5.5277   28.5525   \n",
       "...         ...       ...     ...     ...     ...       ...       ...   \n",
       "19015   21.3846   10.9170  2.6161  0.5857  0.3934   15.2618   11.5245   \n",
       "19016   28.9452    6.7020  2.2672  0.5351  0.2784   37.0816   13.1853   \n",
       "19017   75.4455   47.5305  3.4483  0.1417  0.0549   -9.3561   41.0562   \n",
       "19018  120.5135   76.9018  3.9939  0.0944  0.0683    5.8043  -93.5224   \n",
       "19019  187.1814   53.0014  3.2093  0.2876  0.1539 -167.3125 -168.4558   \n",
       "\n",
       "       fM3Trans   fAlpha     fDist  Class  \n",
       "0       -8.2027  40.0920   81.8828      1  \n",
       "1       -9.9574   6.3609  205.2610      1  \n",
       "2      -45.2160  76.9600  256.7880      1  \n",
       "3       -7.1513  10.4490  116.7370      1  \n",
       "4       21.8393   4.6480  356.4620      1  \n",
       "...         ...      ...       ...    ...  \n",
       "19015    2.8766   2.4229  106.8258      0  \n",
       "19016   -2.9632  86.7975  247.4560      0  \n",
       "19017   -9.4662  30.2987  256.5166      0  \n",
       "19018  -63.8389  84.6874  408.3166      0  \n",
       "19019   31.4755  52.7310  272.3174      0  \n",
       "\n",
       "[19020 rows x 11 columns]"
      ]
     },
     "execution_count": 3,
     "metadata": {},
     "output_type": "execute_result"
    }
   ],
   "source": [
    "data = pd.read_csv('magic_telescope.csv', header=0)\n",
    "data = data.replace({'g':1, 'h':0})\n",
    "data"
   ]
  },
  {
   "cell_type": "markdown",
   "metadata": {},
   "source": [
    "Split the training and testing data as usual."
   ]
  },
  {
   "cell_type": "code",
   "execution_count": 4,
   "metadata": {},
   "outputs": [
    {
     "name": "stdout",
     "output_type": "stream",
     "text": [
      "Training set size =  15216\n",
      "Testing set size =  3804\n"
     ]
    }
   ],
   "source": [
    "y = data['Class']\n",
    "X = data.drop(columns=['Class'])\n",
    "X_train, X_test, y_train, y_test = train_test_split(X, y, test_size=0.2)\n",
    "\n",
    "print(\"Training set size = \", len(X_train))\n",
    "print(\"Testing set size = \", len(X_test))"
   ]
  },
  {
   "cell_type": "markdown",
   "metadata": {},
   "source": [
    "Do you notice any issues in the data? Hint: compare the values in columns 'fConc' and 'fDist'. How would the relative differences in magnitude affect the training of the neural network?\n",
    "\n",
    "To prevent features with large values from dominating the contributions to the error, we will use `sklearn.preprocessing.StandardScaler` to scale each column by the standard deviation and shift the mean to zero. Not only does this help the network treat the features on equal footing, it also decreases the risk of floating point errors. This is because the density of floating point numbers is highest for small numbers."
   ]
  },
  {
   "cell_type": "code",
   "execution_count": 5,
   "metadata": {
    "scrolled": true
   },
   "outputs": [
    {
     "data": {
      "text/html": [
       "<div>\n",
       "<style scoped>\n",
       "    .dataframe tbody tr th:only-of-type {\n",
       "        vertical-align: middle;\n",
       "    }\n",
       "\n",
       "    .dataframe tbody tr th {\n",
       "        vertical-align: top;\n",
       "    }\n",
       "\n",
       "    .dataframe thead th {\n",
       "        text-align: right;\n",
       "    }\n",
       "</style>\n",
       "<table border=\"1\" class=\"dataframe\">\n",
       "  <thead>\n",
       "    <tr style=\"text-align: right;\">\n",
       "      <th></th>\n",
       "      <th>fLength</th>\n",
       "      <th>fWidth</th>\n",
       "      <th>fSize</th>\n",
       "      <th>fConc</th>\n",
       "      <th>fConc1</th>\n",
       "      <th>fAsym</th>\n",
       "      <th>fM3Long</th>\n",
       "      <th>fM3Trans</th>\n",
       "      <th>fAlpha</th>\n",
       "      <th>fDist</th>\n",
       "    </tr>\n",
       "  </thead>\n",
       "  <tbody>\n",
       "    <tr>\n",
       "      <td>0</td>\n",
       "      <td>-0.827491</td>\n",
       "      <td>-0.630029</td>\n",
       "      <td>-1.391729</td>\n",
       "      <td>0.896008</td>\n",
       "      <td>0.675634</td>\n",
       "      <td>-0.333528</td>\n",
       "      <td>-0.381886</td>\n",
       "      <td>0.098882</td>\n",
       "      <td>0.210296</td>\n",
       "      <td>0.343658</td>\n",
       "    </tr>\n",
       "    <tr>\n",
       "      <td>1</td>\n",
       "      <td>-0.101231</td>\n",
       "      <td>0.566734</td>\n",
       "      <td>0.448100</td>\n",
       "      <td>-0.719958</td>\n",
       "      <td>-0.551900</td>\n",
       "      <td>0.265379</td>\n",
       "      <td>0.826524</td>\n",
       "      <td>-1.158675</td>\n",
       "      <td>-0.853387</td>\n",
       "      <td>-1.080723</td>\n",
       "    </tr>\n",
       "    <tr>\n",
       "      <td>2</td>\n",
       "      <td>-0.121788</td>\n",
       "      <td>0.027783</td>\n",
       "      <td>0.356521</td>\n",
       "      <td>-0.932139</td>\n",
       "      <td>-0.984348</td>\n",
       "      <td>0.273933</td>\n",
       "      <td>0.588566</td>\n",
       "      <td>-0.724702</td>\n",
       "      <td>-0.776250</td>\n",
       "      <td>0.661170</td>\n",
       "    </tr>\n",
       "    <tr>\n",
       "      <td>3</td>\n",
       "      <td>-0.333866</td>\n",
       "      <td>-0.697613</td>\n",
       "      <td>-0.194011</td>\n",
       "      <td>0.131500</td>\n",
       "      <td>0.004751</td>\n",
       "      <td>0.631199</td>\n",
       "      <td>0.202155</td>\n",
       "      <td>0.363237</td>\n",
       "      <td>0.152478</td>\n",
       "      <td>-0.446783</td>\n",
       "    </tr>\n",
       "    <tr>\n",
       "      <td>4</td>\n",
       "      <td>-0.780674</td>\n",
       "      <td>-0.877803</td>\n",
       "      <td>-0.300606</td>\n",
       "      <td>1.722311</td>\n",
       "      <td>1.616683</td>\n",
       "      <td>-0.015497</td>\n",
       "      <td>0.002293</td>\n",
       "      <td>-0.082218</td>\n",
       "      <td>0.480755</td>\n",
       "      <td>0.191823</td>\n",
       "    </tr>\n",
       "    <tr>\n",
       "      <td>...</td>\n",
       "      <td>...</td>\n",
       "      <td>...</td>\n",
       "      <td>...</td>\n",
       "      <td>...</td>\n",
       "      <td>...</td>\n",
       "      <td>...</td>\n",
       "      <td>...</td>\n",
       "      <td>...</td>\n",
       "      <td>...</td>\n",
       "      <td>...</td>\n",
       "    </tr>\n",
       "    <tr>\n",
       "      <td>15211</td>\n",
       "      <td>0.109937</td>\n",
       "      <td>-0.030729</td>\n",
       "      <td>0.562098</td>\n",
       "      <td>-1.144320</td>\n",
       "      <td>-1.140283</td>\n",
       "      <td>-2.098585</td>\n",
       "      <td>0.794266</td>\n",
       "      <td>-0.203175</td>\n",
       "      <td>-0.773547</td>\n",
       "      <td>0.280236</td>\n",
       "    </tr>\n",
       "    <tr>\n",
       "      <td>15212</td>\n",
       "      <td>0.114157</td>\n",
       "      <td>0.535062</td>\n",
       "      <td>0.942584</td>\n",
       "      <td>-1.072135</td>\n",
       "      <td>-1.097673</td>\n",
       "      <td>0.823204</td>\n",
       "      <td>0.561475</td>\n",
       "      <td>1.348543</td>\n",
       "      <td>-0.838352</td>\n",
       "      <td>0.894088</td>\n",
       "    </tr>\n",
       "    <tr>\n",
       "      <td>15213</td>\n",
       "      <td>0.802827</td>\n",
       "      <td>0.535727</td>\n",
       "      <td>0.896689</td>\n",
       "      <td>-1.408453</td>\n",
       "      <td>-1.232756</td>\n",
       "      <td>-0.277134</td>\n",
       "      <td>1.168005</td>\n",
       "      <td>-1.268893</td>\n",
       "      <td>-0.857921</td>\n",
       "      <td>-2.084362</td>\n",
       "    </tr>\n",
       "    <tr>\n",
       "      <td>15214</td>\n",
       "      <td>-0.803843</td>\n",
       "      <td>-0.503817</td>\n",
       "      <td>-0.655924</td>\n",
       "      <td>0.758746</td>\n",
       "      <td>0.947614</td>\n",
       "      <td>-0.158500</td>\n",
       "      <td>-0.462091</td>\n",
       "      <td>0.268520</td>\n",
       "      <td>1.983401</td>\n",
       "      <td>-1.702047</td>\n",
       "    </tr>\n",
       "    <tr>\n",
       "      <td>15215</td>\n",
       "      <td>-0.786704</td>\n",
       "      <td>-0.690862</td>\n",
       "      <td>-0.524161</td>\n",
       "      <td>1.131704</td>\n",
       "      <td>0.777173</td>\n",
       "      <td>0.507595</td>\n",
       "      <td>-0.098077</td>\n",
       "      <td>0.185810</td>\n",
       "      <td>1.728537</td>\n",
       "      <td>-0.299316</td>\n",
       "    </tr>\n",
       "  </tbody>\n",
       "</table>\n",
       "<p>15216 rows × 10 columns</p>\n",
       "</div>"
      ],
      "text/plain": [
       "        fLength    fWidth     fSize     fConc    fConc1     fAsym   fM3Long  \\\n",
       "0     -0.827491 -0.630029 -1.391729  0.896008  0.675634 -0.333528 -0.381886   \n",
       "1     -0.101231  0.566734  0.448100 -0.719958 -0.551900  0.265379  0.826524   \n",
       "2     -0.121788  0.027783  0.356521 -0.932139 -0.984348  0.273933  0.588566   \n",
       "3     -0.333866 -0.697613 -0.194011  0.131500  0.004751  0.631199  0.202155   \n",
       "4     -0.780674 -0.877803 -0.300606  1.722311  1.616683 -0.015497  0.002293   \n",
       "...         ...       ...       ...       ...       ...       ...       ...   \n",
       "15211  0.109937 -0.030729  0.562098 -1.144320 -1.140283 -2.098585  0.794266   \n",
       "15212  0.114157  0.535062  0.942584 -1.072135 -1.097673  0.823204  0.561475   \n",
       "15213  0.802827  0.535727  0.896689 -1.408453 -1.232756 -0.277134  1.168005   \n",
       "15214 -0.803843 -0.503817 -0.655924  0.758746  0.947614 -0.158500 -0.462091   \n",
       "15215 -0.786704 -0.690862 -0.524161  1.131704  0.777173  0.507595 -0.098077   \n",
       "\n",
       "       fM3Trans    fAlpha     fDist  \n",
       "0      0.098882  0.210296  0.343658  \n",
       "1     -1.158675 -0.853387 -1.080723  \n",
       "2     -0.724702 -0.776250  0.661170  \n",
       "3      0.363237  0.152478 -0.446783  \n",
       "4     -0.082218  0.480755  0.191823  \n",
       "...         ...       ...       ...  \n",
       "15211 -0.203175 -0.773547  0.280236  \n",
       "15212  1.348543 -0.838352  0.894088  \n",
       "15213 -1.268893 -0.857921 -2.084362  \n",
       "15214  0.268520  1.983401 -1.702047  \n",
       "15215  0.185810  1.728537 -0.299316  \n",
       "\n",
       "[15216 rows x 10 columns]"
      ]
     },
     "execution_count": 5,
     "metadata": {},
     "output_type": "execute_result"
    }
   ],
   "source": [
    "scaler = StandardScaler()\n",
    "scaler.fit(X_train)\n",
    "\n",
    "X_train_scaled = pd.DataFrame(scaler.transform(X_train), columns=X.columns)\n",
    "X_test_scaled = pd.DataFrame(scaler.transform(X_test), columns=X.columns)\n",
    "X_train_scaled"
   ]
  },
  {
   "cell_type": "markdown",
   "metadata": {},
   "source": [
    "## 2. Build Neural Network"
   ]
  },
  {
   "cell_type": "markdown",
   "metadata": {},
   "source": [
    "Here is a plot of some common activation functions:"
   ]
  },
  {
   "cell_type": "code",
   "execution_count": 6,
   "metadata": {},
   "outputs": [
    {
     "data": {
      "image/png": "[encoded data removed]",
      "text/plain": [
       "<Figure size 720x432 with 1 Axes>"
      ]
     },
     "metadata": {
      "needs_background": "light"
     },
     "output_type": "display_data"
    }
   ],
   "source": [
    "%run FNN-Mathematics.ipynb"
   ]
  },
  {
   "cell_type": "markdown",
   "metadata": {},
   "source": [
    "We can build a feedforward neural network by stacking `keras.layers.Dense` objects of the appropriate sizes and activation functions. Here are some tips for configuring the network for binary classification:\n",
    "\n",
    "1. The most popular activation function for the hidden layers is the Rectified Linear Unit (ReLU). If you need a smoother function, Softplus, SELU, and ELU are good options. By the way, bounded functions like sigmoid and hyperbolic tangent are not off limits for the hidden layers! They just might not give the best performance. \n",
    "\n",
    "2. Since the target labels are either 0 or 1, the output of the network should be restricted to the range (0,1). The sigmoid function is the most common choice for the output layer activation function.\n",
    "\n",
    "3. Loss functions like MSE are not great for binary classification (great for regression though). Instead, we want to use binary cross-entropy, also known as log loss. [This](https://towardsdatascience.com/understanding-binary-cross-entropy-log-loss-a-visual-explanation-a3ac6025181a) is a great explanation of how it works. \n",
    "\n",
    "4. Neural networks can take a long time to train, so start with a small number of hidden neurons, hidden layers, and training epochs.\n",
    "\n",
    "5. [Adam](https://machinelearningmastery.com/adam-optimization-algorithm-for-deep-learning/) is the most popular choice of optimizer. It works quickly and reliably for most applications.\n",
    "\n",
    "6. For huge data sets, it takes a long time to calculate the loss over the full training set for each epoch. Instead, calculate the loss over a small sample batch of data and update the parameters more frequently. Just make sure to choose the batch size and the number of epochs so that the network \"sees\" the whole data set at least once.\n",
    "\n",
    "7. Use the optional parameter `validation_split` to set aside some of the training data to estimate the testing accuracy. Tracking the training accuracy alongside the validation accuracy will help determine if we're overtraining. The goal is too have two curves that level out to similar values.\n",
    "\n",
    "Now let's set a baseline for the performance we expect from an FNN. The simplest possible network is a shallow FNN with only one hidden node:"
   ]
  },
  {
   "cell_type": "code",
   "execution_count": 7,
   "metadata": {
    "scrolled": true
   },
   "outputs": [
    {
     "name": "stdout",
     "output_type": "stream",
     "text": [
      "Model: \"sequential_1\"\n",
      "_________________________________________________________________\n",
      "Layer (type)                 Output Shape              Param #   \n",
      "=================================================================\n",
      "hidden (Dense)               (None, 1)                 11        \n",
      "_________________________________________________________________\n",
      "output (Dense)               (None, 1)                 2         \n",
      "=================================================================\n",
      "Total params: 13\n",
      "Trainable params: 13\n",
      "Non-trainable params: 0\n",
      "_________________________________________________________________\n"
     ]
    }
   ],
   "source": [
    "# seed here for reproducible results, you can remove this\n",
    "np.random.seed(1)\n",
    "\n",
    "# build Keras Sequential model\n",
    "model = Sequential()\n",
    "model.add(Dense(1, input_dim=10, activation='relu', name='hidden'))\n",
    "model.add(Dense(1, activation=\"sigmoid\", name='output'))\n",
    "model.compile(loss='binary_crossentropy', optimizer='adam', metrics=['accuracy'])\n",
    "model.summary()"
   ]
  },
  {
   "cell_type": "markdown",
   "metadata": {},
   "source": [
    "Train the network on both the scaled and unscaled data sets."
   ]
  },
  {
   "cell_type": "code",
   "execution_count": 8,
   "metadata": {},
   "outputs": [],
   "source": [
    "epochs = 100\n",
    "verbose = 0\n",
    "\n",
    "training = model.fit(X_train, y_train, epochs=epochs, verbose=verbose)\n",
    "training_scaled = model.fit(X_train_scaled, y_train, epochs=epochs, verbose=verbose)"
   ]
  },
  {
   "cell_type": "markdown",
   "metadata": {},
   "source": [
    "The output of the `fit` function is a Keras object that has a dictionary called `history`. The dictionary keys depend on the parameters of the model."
   ]
  },
  {
   "cell_type": "code",
   "execution_count": 9,
   "metadata": {},
   "outputs": [
    {
     "name": "stdout",
     "output_type": "stream",
     "text": [
      "<class 'keras.callbacks.callbacks.History'>\n",
      "<class 'dict'>\n",
      "dict_keys(['loss', 'accuracy'])\n"
     ]
    }
   ],
   "source": [
    "print(type(training))\n",
    "print(type(training.history))\n",
    "print(training.history.keys())"
   ]
  },
  {
   "cell_type": "markdown",
   "metadata": {},
   "source": [
    "Plot the training history to see how scaling the data set affected the accuracy. If you use the `validation_split` parameter, you can also plot the validation accuracies."
   ]
  },
  {
   "cell_type": "code",
   "execution_count": 10,
   "metadata": {},
   "outputs": [
    {
     "data": {
      "image/png": "[encoded data removed]",
      "text/plain": [
       "<Figure size 432x288 with 1 Axes>"
      ]
     },
     "metadata": {
      "needs_background": "light"
     },
     "output_type": "display_data"
    }
   ],
   "source": [
    "plt.plot(training.history['accuracy'], color='b', linestyle='--', label='train (unscaled)')\n",
    "plt.plot(training_scaled.history['accuracy'], color='b', label='train (scaled)')\n",
    "#plt.plot(training.history['val_accuracy'], color='r', linestyle='--', label='validation (unscaled)')\n",
    "#plt.plot(training_scaled.history['val_accuracy'], color='r', label='validation (scaled)')\n",
    "\n",
    "plt.ylabel('accuracy')\n",
    "plt.xlabel('epoch')\n",
    "plt.legend(loc='lower right')\n",
    "plt.grid(alpha=0.2)\n",
    "plt.show()"
   ]
  },
  {
   "cell_type": "markdown",
   "metadata": {},
   "source": [
    "Score the model over the scaled testing data:"
   ]
  },
  {
   "cell_type": "code",
   "execution_count": 11,
   "metadata": {},
   "outputs": [
    {
     "name": "stdout",
     "output_type": "stream",
     "text": [
      "Test Loss =  0.45524595340970436\n",
      "Test Accuracy =  0.7920609712600708\n"
     ]
    }
   ],
   "source": [
    "loss, accuracy = model.evaluate(X_test_scaled, y_test, verbose=0)\n",
    "print(\"Test Loss = \", loss)\n",
    "print(\"Test Accuracy = \", accuracy)"
   ]
  },
  {
   "cell_type": "markdown",
   "metadata": {},
   "source": [
    "Sometimes, the accuracy is not enough to evaluate the performance of the model. In our case, it's worse for the model to classify the signal (gamma rays) as background noise (hadrons) than the other way around. So we need a confusion matrix."
   ]
  },
  {
   "cell_type": "code",
   "execution_count": 12,
   "metadata": {},
   "outputs": [
    {
     "name": "stdout",
     "output_type": "stream",
     "text": [
      "True Positives =  2193\n",
      "True Negatives =  820\n",
      "False Positives =  516\n",
      "False Negatives =  275\n"
     ]
    }
   ],
   "source": [
    "# get prediction\n",
    "y_pred = model.predict(X_test_scaled)\n",
    "\n",
    "# change float outputs to integers\n",
    "threshold = 0.5\n",
    "y_pred = np.where(y_pred > threshold, 1, 0)\n",
    "\n",
    "# confusion matrix\n",
    "tn, fp, fn, tp = confusion_matrix(y_test, y_pred).ravel()\n",
    "\n",
    "print(\"True Positives = \", tp)\n",
    "print(\"True Negatives = \", tn)\n",
    "print(\"False Positives = \", fp)\n",
    "print(\"False Negatives = \", fn)"
   ]
  },
  {
   "cell_type": "markdown",
   "metadata": {},
   "source": [
    "## 3. Tune Hyperparameters"
   ]
  },
  {
   "cell_type": "markdown",
   "metadata": {},
   "source": [
    "You've seen what a shallow FNN can do with only one hidden node. Are you surprised by the performance? How many parameters were tuned?\n",
    "\n",
    "Now it's time to experiment. Here are some changes you could make to the above code to improve the accuracy:\n",
    "\n",
    "1. Increase the number of hidden nodes.\n",
    "\n",
    "    * Do you notice a plateau in accuracy as you add more and more hidden nodes?\n",
    "    \n",
    "    \n",
    "2. Increase the number of layers.\n",
    "\n",
    "    * How many parameters are in a shallow network with $N$ nodes? If $N$ is even, how many parameters are in a two-hidden-layer network with $N/2$ nodes each?\n",
    "    \n",
    "    * Why does increasing the depth (usually) improve the performance of the network?\n",
    "    \n",
    "    \n",
    "3. Split the training data into training-validation sets using the `validation_split` parameter for the `fit` function. \n",
    "\n",
    "    * If you plot the validation accuracy with the training accuracy, do the curves level out to similar values? If they don't level out at all, you might need to increase the number of epochs. \n",
    "    \n",
    "    * If you set `shuffle=True` to resplit the data after each epoch, the accuracy curves should become noisier. Why is noise sometimes a good thing when using gradient descent methods?\n",
    "    \n",
    "    \n",
    "4. Change the `batch_size` to something much smaller than your training set, like 100. \n",
    "\n",
    "    * Do you notice a change in the training time?\n",
    "    \n",
    "    \n",
    "5. Change the hidden layer activation function. [Here](https://keras.io/api/layers/activations/#available-activations) are your options.\n",
    "\n",
    "    * Which activation function gave the best accuracy?"
   ]
  },
  {
   "cell_type": "code",
   "execution_count": null,
   "metadata": {},
   "outputs": [],
   "source": []
  }
 ],
 "metadata": {
  "kernelspec": {
   "display_name": "Python 3",
   "language": "python",
   "name": "python3"
  },
  "language_info": {
   "codemirror_mode": {
    "name": "ipython",
    "version": 3
   },
   "file_extension": ".py",
   "mimetype": "text/x-python",
   "name": "python",
   "nbconvert_exporter": "python",
   "pygments_lexer": "ipython3",
   "version": "3.7.3"
  }
 },
 "nbformat": 4,
 "nbformat_minor": 2
}
